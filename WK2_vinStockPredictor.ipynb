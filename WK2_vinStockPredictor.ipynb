{
  "nbformat": 4,
  "nbformat_minor": 0,
  "metadata": {
    "colab": {
      "name": "WK2-vinStockPredictor.ipynb",
      "version": "0.3.2",
      "provenance": [],
      "collapsed_sections": [],
      "include_colab_link": true
    },
    "kernelspec": {
      "name": "python3",
      "display_name": "Python 3"
    },
    "accelerator": "GPU"
  },
  "cells": [
    {
      "cell_type": "markdown",
      "metadata": {
        "id": "view-in-github",
        "colab_type": "text"
      },
      "source": [
        "<a href=\"https://colab.research.google.com/github/vindowsclient/StockTrends/blob/master/WK2_vinStockPredictor.ipynb\" target=\"_parent\"><img src=\"https://colab.research.google.com/assets/colab-badge.svg\" alt=\"Open In Colab\"/></a>"
      ]
    },
    {
      "cell_type": "code",
      "metadata": {
        "id": "ddj9mbVHfHn8",
        "colab_type": "code",
        "outputId": "10dd4696-5f52-430b-a56e-4711a55a1d39",
        "colab": {
          "base_uri": "https://localhost:8080/",
          "height": 84
        }
      },
      "source": [
        "# import the dependencies...\n",
        "\n",
        "import pandas as pd\n",
        "import datetime\n",
        "import numpy as np\n",
        "import matplotlib.pyplot as plt\n",
        "import pandas_datareader.data as web\n",
        "\n",
        "\n",
        "# scientific models...\n",
        "!pip install -U scikit-learn\n",
        "from sklearn.linear_model import LinearRegression, Ridge, Lasso\n",
        "from sklearn import preprocessing\n",
        "from sklearn.model_selection import train_test_split\n",
        "from sklearn.ensemble import GradientBoostingRegressor\n",
        "\n",
        "# get the metrics as well...\n",
        "from sklearn import metrics"
      ],
      "execution_count": 1,
      "outputs": [
        {
          "output_type": "stream",
          "text": [
            "Requirement already up-to-date: scikit-learn in /usr/local/lib/python3.6/dist-packages (0.21.3)\n",
            "Requirement already satisfied, skipping upgrade: scipy>=0.17.0 in /usr/local/lib/python3.6/dist-packages (from scikit-learn) (1.3.1)\n",
            "Requirement already satisfied, skipping upgrade: numpy>=1.11.0 in /usr/local/lib/python3.6/dist-packages (from scikit-learn) (1.16.5)\n",
            "Requirement already satisfied, skipping upgrade: joblib>=0.11 in /usr/local/lib/python3.6/dist-packages (from scikit-learn) (0.13.2)\n"
          ],
          "name": "stdout"
        }
      ]
    },
    {
      "cell_type": "code",
      "metadata": {
        "id": "0Tb8su1khnqo",
        "colab_type": "code",
        "outputId": "b5b774d1-7024-4e8d-d4a4-4faaae2c6014",
        "colab": {
          "base_uri": "https://localhost:8080/",
          "height": 50
        }
      },
      "source": [
        "# Prepare to get the data\n",
        "\n",
        "from google.colab import drive\n",
        "drive.mount('/content/drive', force_remount=True)\n",
        "%cd '/content/drive/My Drive/samplemarketdata_forML'"
      ],
      "execution_count": 2,
      "outputs": [
        {
          "output_type": "stream",
          "text": [
            "Mounted at /content/drive\n",
            "/content/drive/My Drive/samplemarketdata_forML\n"
          ],
          "name": "stdout"
        }
      ]
    },
    {
      "cell_type": "code",
      "metadata": {
        "id": "t56rZXFUkiND",
        "colab_type": "code",
        "colab": {}
      },
      "source": [
        "\n",
        "# fetch the data...\n",
        "scrip = 'AAPL'\n",
        "scripsrc = 'yahoo'\n",
        "\n",
        "from pandas import Series, DataFrame\n",
        "\n",
        "start = datetime.datetime(2019, 1, 1)\n",
        "#end = datetime.datetime(2019, 9, 8)\n",
        "\n",
        "#df = web.DataReader(scrip, scripsrc, start, end)\n",
        "#df.tail()\n",
        "\n",
        "df = web.get_data_yahoo(scrip, start)\n",
        "df.to_csv('output/'+scrip+'.csv', index=False)"
      ],
      "execution_count": 0,
      "outputs": []
    },
    {
      "cell_type": "code",
      "metadata": {
        "id": "iSkP3LvufZK4",
        "colab_type": "code",
        "colab": {
          "base_uri": "https://localhost:8080/",
          "height": 34
        },
        "outputId": "6fc0a2d9-492a-43ea-e358-f3a958c0a503"
      },
      "source": [
        "# get the stats of the data\n",
        "df.shape"
      ],
      "execution_count": 4,
      "outputs": [
        {
          "output_type": "execute_result",
          "data": {
            "text/plain": [
              "(176, 6)"
            ]
          },
          "metadata": {
            "tags": []
          },
          "execution_count": 4
        }
      ]
    },
    {
      "cell_type": "code",
      "metadata": {
        "id": "DlXvQefCfd9M",
        "colab_type": "code",
        "colab": {
          "base_uri": "https://localhost:8080/",
          "height": 225
        },
        "outputId": "8cae2b52-f51f-448e-daad-2be283a617fd"
      },
      "source": [
        "df.head()"
      ],
      "execution_count": 5,
      "outputs": [
        {
          "output_type": "execute_result",
          "data": {
            "text/html": [
              "<div>\n",
              "<style scoped>\n",
              "    .dataframe tbody tr th:only-of-type {\n",
              "        vertical-align: middle;\n",
              "    }\n",
              "\n",
              "    .dataframe tbody tr th {\n",
              "        vertical-align: top;\n",
              "    }\n",
              "\n",
              "    .dataframe thead th {\n",
              "        text-align: right;\n",
              "    }\n",
              "</style>\n",
              "<table border=\"1\" class=\"dataframe\">\n",
              "  <thead>\n",
              "    <tr style=\"text-align: right;\">\n",
              "      <th></th>\n",
              "      <th>High</th>\n",
              "      <th>Low</th>\n",
              "      <th>Open</th>\n",
              "      <th>Close</th>\n",
              "      <th>Volume</th>\n",
              "      <th>Adj Close</th>\n",
              "    </tr>\n",
              "    <tr>\n",
              "      <th>Date</th>\n",
              "      <th></th>\n",
              "      <th></th>\n",
              "      <th></th>\n",
              "      <th></th>\n",
              "      <th></th>\n",
              "      <th></th>\n",
              "    </tr>\n",
              "  </thead>\n",
              "  <tbody>\n",
              "    <tr>\n",
              "      <th>2019-01-02</th>\n",
              "      <td>158.850006</td>\n",
              "      <td>154.229996</td>\n",
              "      <td>154.889999</td>\n",
              "      <td>157.919998</td>\n",
              "      <td>37039700.0</td>\n",
              "      <td>156.049484</td>\n",
              "    </tr>\n",
              "    <tr>\n",
              "      <th>2019-01-03</th>\n",
              "      <td>145.720001</td>\n",
              "      <td>142.000000</td>\n",
              "      <td>143.979996</td>\n",
              "      <td>142.190002</td>\n",
              "      <td>91312200.0</td>\n",
              "      <td>140.505798</td>\n",
              "    </tr>\n",
              "    <tr>\n",
              "      <th>2019-01-04</th>\n",
              "      <td>148.550003</td>\n",
              "      <td>143.800003</td>\n",
              "      <td>144.529999</td>\n",
              "      <td>148.259995</td>\n",
              "      <td>58607100.0</td>\n",
              "      <td>146.503891</td>\n",
              "    </tr>\n",
              "    <tr>\n",
              "      <th>2019-01-07</th>\n",
              "      <td>148.830002</td>\n",
              "      <td>145.899994</td>\n",
              "      <td>148.699997</td>\n",
              "      <td>147.929993</td>\n",
              "      <td>54777800.0</td>\n",
              "      <td>146.177811</td>\n",
              "    </tr>\n",
              "    <tr>\n",
              "      <th>2019-01-08</th>\n",
              "      <td>151.820007</td>\n",
              "      <td>148.520004</td>\n",
              "      <td>149.559998</td>\n",
              "      <td>150.750000</td>\n",
              "      <td>41025300.0</td>\n",
              "      <td>148.964386</td>\n",
              "    </tr>\n",
              "  </tbody>\n",
              "</table>\n",
              "</div>"
            ],
            "text/plain": [
              "                  High         Low  ...      Volume   Adj Close\n",
              "Date                                ...                        \n",
              "2019-01-02  158.850006  154.229996  ...  37039700.0  156.049484\n",
              "2019-01-03  145.720001  142.000000  ...  91312200.0  140.505798\n",
              "2019-01-04  148.550003  143.800003  ...  58607100.0  146.503891\n",
              "2019-01-07  148.830002  145.899994  ...  54777800.0  146.177811\n",
              "2019-01-08  151.820007  148.520004  ...  41025300.0  148.964386\n",
              "\n",
              "[5 rows x 6 columns]"
            ]
          },
          "metadata": {
            "tags": []
          },
          "execution_count": 5
        }
      ]
    },
    {
      "cell_type": "code",
      "metadata": {
        "id": "DfhqnSoefq_r",
        "colab_type": "code",
        "colab": {
          "base_uri": "https://localhost:8080/",
          "height": 284
        },
        "outputId": "9fcc8efc-a341-40bf-a13e-dde07fadc608"
      },
      "source": [
        "df.describe()"
      ],
      "execution_count": 6,
      "outputs": [
        {
          "output_type": "execute_result",
          "data": {
            "text/html": [
              "<div>\n",
              "<style scoped>\n",
              "    .dataframe tbody tr th:only-of-type {\n",
              "        vertical-align: middle;\n",
              "    }\n",
              "\n",
              "    .dataframe tbody tr th {\n",
              "        vertical-align: top;\n",
              "    }\n",
              "\n",
              "    .dataframe thead th {\n",
              "        text-align: right;\n",
              "    }\n",
              "</style>\n",
              "<table border=\"1\" class=\"dataframe\">\n",
              "  <thead>\n",
              "    <tr style=\"text-align: right;\">\n",
              "      <th></th>\n",
              "      <th>High</th>\n",
              "      <th>Low</th>\n",
              "      <th>Open</th>\n",
              "      <th>Close</th>\n",
              "      <th>Volume</th>\n",
              "      <th>Adj Close</th>\n",
              "    </tr>\n",
              "  </thead>\n",
              "  <tbody>\n",
              "    <tr>\n",
              "      <th>count</th>\n",
              "      <td>176.000000</td>\n",
              "      <td>176.000000</td>\n",
              "      <td>176.000000</td>\n",
              "      <td>176.000000</td>\n",
              "      <td>1.760000e+02</td>\n",
              "      <td>176.000000</td>\n",
              "    </tr>\n",
              "    <tr>\n",
              "      <th>mean</th>\n",
              "      <td>191.257330</td>\n",
              "      <td>187.765795</td>\n",
              "      <td>189.320568</td>\n",
              "      <td>189.605341</td>\n",
              "      <td>2.889394e+07</td>\n",
              "      <td>188.549522</td>\n",
              "    </tr>\n",
              "    <tr>\n",
              "      <th>std</th>\n",
              "      <td>18.569755</td>\n",
              "      <td>18.353156</td>\n",
              "      <td>18.456454</td>\n",
              "      <td>18.333915</td>\n",
              "      <td>1.145611e+07</td>\n",
              "      <td>18.707644</td>\n",
              "    </tr>\n",
              "    <tr>\n",
              "      <th>min</th>\n",
              "      <td>145.720001</td>\n",
              "      <td>142.000000</td>\n",
              "      <td>143.979996</td>\n",
              "      <td>142.190002</td>\n",
              "      <td>1.136200e+07</td>\n",
              "      <td>140.505798</td>\n",
              "    </tr>\n",
              "    <tr>\n",
              "      <th>25%</th>\n",
              "      <td>175.967499</td>\n",
              "      <td>173.947498</td>\n",
              "      <td>175.247501</td>\n",
              "      <td>174.945000</td>\n",
              "      <td>2.111072e+07</td>\n",
              "      <td>173.614227</td>\n",
              "    </tr>\n",
              "    <tr>\n",
              "      <th>50%</th>\n",
              "      <td>196.644997</td>\n",
              "      <td>193.144997</td>\n",
              "      <td>194.824997</td>\n",
              "      <td>194.949997</td>\n",
              "      <td>2.628020e+07</td>\n",
              "      <td>193.735008</td>\n",
              "    </tr>\n",
              "    <tr>\n",
              "      <th>75%</th>\n",
              "      <td>205.434998</td>\n",
              "      <td>202.344997</td>\n",
              "      <td>203.507504</td>\n",
              "      <td>203.900002</td>\n",
              "      <td>3.251772e+07</td>\n",
              "      <td>202.746956</td>\n",
              "    </tr>\n",
              "    <tr>\n",
              "      <th>max</th>\n",
              "      <td>226.419998</td>\n",
              "      <td>222.860001</td>\n",
              "      <td>224.800003</td>\n",
              "      <td>223.589996</td>\n",
              "      <td>9.131220e+07</td>\n",
              "      <td>223.589996</td>\n",
              "    </tr>\n",
              "  </tbody>\n",
              "</table>\n",
              "</div>"
            ],
            "text/plain": [
              "             High         Low        Open       Close        Volume   Adj Close\n",
              "count  176.000000  176.000000  176.000000  176.000000  1.760000e+02  176.000000\n",
              "mean   191.257330  187.765795  189.320568  189.605341  2.889394e+07  188.549522\n",
              "std     18.569755   18.353156   18.456454   18.333915  1.145611e+07   18.707644\n",
              "min    145.720001  142.000000  143.979996  142.190002  1.136200e+07  140.505798\n",
              "25%    175.967499  173.947498  175.247501  174.945000  2.111072e+07  173.614227\n",
              "50%    196.644997  193.144997  194.824997  194.949997  2.628020e+07  193.735008\n",
              "75%    205.434998  202.344997  203.507504  203.900002  3.251772e+07  202.746956\n",
              "max    226.419998  222.860001  224.800003  223.589996  9.131220e+07  223.589996"
            ]
          },
          "metadata": {
            "tags": []
          },
          "execution_count": 6
        }
      ]
    },
    {
      "cell_type": "code",
      "metadata": {
        "id": "UpgujZkgf0X9",
        "colab_type": "code",
        "colab": {
          "base_uri": "https://localhost:8080/",
          "height": 298
        },
        "outputId": "103db617-6734-4fbd-d5cb-0349dcb9c997"
      },
      "source": [
        "df['Adj Close'].plot()"
      ],
      "execution_count": 7,
      "outputs": [
        {
          "output_type": "execute_result",
          "data": {
            "text/plain": [
              "<matplotlib.axes._subplots.AxesSubplot at 0x7f0d13707128>"
            ]
          },
          "metadata": {
            "tags": []
          },
          "execution_count": 7
        },
        {
          "output_type": "display_data",
          "data": {
            "image/png": "[encoded data removed]",
            "text/plain": [
              "<Figure size 432x288 with 1 Axes>"
            ]
          },
          "metadata": {
            "tags": []
          }
        }
      ]
    },
    {
      "cell_type": "code",
      "metadata": {
        "id": "ITeHQryWguFM",
        "colab_type": "code",
        "colab": {
          "base_uri": "https://localhost:8080/",
          "height": 225
        },
        "outputId": "84ef3bbb-0cda-4e3f-9286-3ad034ec75d7"
      },
      "source": [
        "#df.set_index('Date', inplace=True)\n",
        "df.head()"
      ],
      "execution_count": 10,
      "outputs": [
        {
          "output_type": "execute_result",
          "data": {
            "text/html": [
              "<div>\n",
              "<style scoped>\n",
              "    .dataframe tbody tr th:only-of-type {\n",
              "        vertical-align: middle;\n",
              "    }\n",
              "\n",
              "    .dataframe tbody tr th {\n",
              "        vertical-align: top;\n",
              "    }\n",
              "\n",
              "    .dataframe thead th {\n",
              "        text-align: right;\n",
              "    }\n",
              "</style>\n",
              "<table border=\"1\" class=\"dataframe\">\n",
              "  <thead>\n",
              "    <tr style=\"text-align: right;\">\n",
              "      <th></th>\n",
              "      <th>High</th>\n",
              "      <th>Low</th>\n",
              "      <th>Open</th>\n",
              "      <th>Close</th>\n",
              "      <th>Volume</th>\n",
              "      <th>Adj Close</th>\n",
              "    </tr>\n",
              "    <tr>\n",
              "      <th>Date</th>\n",
              "      <th></th>\n",
              "      <th></th>\n",
              "      <th></th>\n",
              "      <th></th>\n",
              "      <th></th>\n",
              "      <th></th>\n",
              "    </tr>\n",
              "  </thead>\n",
              "  <tbody>\n",
              "    <tr>\n",
              "      <th>2019-01-02</th>\n",
              "      <td>158.850006</td>\n",
              "      <td>154.229996</td>\n",
              "      <td>154.889999</td>\n",
              "      <td>157.919998</td>\n",
              "      <td>37039700.0</td>\n",
              "      <td>156.049484</td>\n",
              "    </tr>\n",
              "    <tr>\n",
              "      <th>2019-01-03</th>\n",
              "      <td>145.720001</td>\n",
              "      <td>142.000000</td>\n",
              "      <td>143.979996</td>\n",
              "      <td>142.190002</td>\n",
              "      <td>91312200.0</td>\n",
              "      <td>140.505798</td>\n",
              "    </tr>\n",
              "    <tr>\n",
              "      <th>2019-01-04</th>\n",
              "      <td>148.550003</td>\n",
              "      <td>143.800003</td>\n",
              "      <td>144.529999</td>\n",
              "      <td>148.259995</td>\n",
              "      <td>58607100.0</td>\n",
              "      <td>146.503891</td>\n",
              "    </tr>\n",
              "    <tr>\n",
              "      <th>2019-01-07</th>\n",
              "      <td>148.830002</td>\n",
              "      <td>145.899994</td>\n",
              "      <td>148.699997</td>\n",
              "      <td>147.929993</td>\n",
              "      <td>54777800.0</td>\n",
              "      <td>146.177811</td>\n",
              "    </tr>\n",
              "    <tr>\n",
              "      <th>2019-01-08</th>\n",
              "      <td>151.820007</td>\n",
              "      <td>148.520004</td>\n",
              "      <td>149.559998</td>\n",
              "      <td>150.750000</td>\n",
              "      <td>41025300.0</td>\n",
              "      <td>148.964386</td>\n",
              "    </tr>\n",
              "  </tbody>\n",
              "</table>\n",
              "</div>"
            ],
            "text/plain": [
              "                  High         Low  ...      Volume   Adj Close\n",
              "Date                                ...                        \n",
              "2019-01-02  158.850006  154.229996  ...  37039700.0  156.049484\n",
              "2019-01-03  145.720001  142.000000  ...  91312200.0  140.505798\n",
              "2019-01-04  148.550003  143.800003  ...  58607100.0  146.503891\n",
              "2019-01-07  148.830002  145.899994  ...  54777800.0  146.177811\n",
              "2019-01-08  151.820007  148.520004  ...  41025300.0  148.964386\n",
              "\n",
              "[5 rows x 6 columns]"
            ]
          },
          "metadata": {
            "tags": []
          },
          "execution_count": 10
        }
      ]
    },
    {
      "cell_type": "code",
      "metadata": {
        "id": "9fR-JizPg9xo",
        "colab_type": "code",
        "colab": {
          "base_uri": "https://localhost:8080/",
          "height": 235
        },
        "outputId": "8b77ca15-29ed-4bb7-fa68-86a3367f6b1b"
      },
      "source": [
        "window_size=32\n",
        "num_samples=len(df)-window_size\n",
        "\n",
        "indices=np.arange(num_samples).astype(np.int)[:, None]+np.arange(window_size+1).astype(np.int)\n",
        "\n",
        "# 2 dimensional data MATRIX\n",
        "# Split into X & Y for marking...\n",
        "data = df['Adj Close'].values[indices] \n",
        "x = data[:,:-1] \n",
        "y = data[:,-1] \n",
        "x \n",
        "#y"
      ],
      "execution_count": 18,
      "outputs": [
        {
          "output_type": "execute_result",
          "data": {
            "text/plain": [
              "array([[156.04948425, 140.50579834, 146.50389099, ..., 168.88546753,\n",
              "        169.5007782 , 169.12365723],\n",
              "       [140.50579834, 146.50389099, 146.17781067, ..., 169.5007782 ,\n",
              "        169.12365723, 169.62976074],\n",
              "       [146.50389099, 146.17781067, 148.96438599, ..., 169.12365723,\n",
              "        169.62976074, 170.72140503],\n",
              "       ...,\n",
              "       [206.23641968, 206.95368958, 208.88633728, ..., 213.27999878,\n",
              "        213.25999451, 214.16999817],\n",
              "       [206.95368958, 208.88633728, 207.98974609, ..., 213.25999451,\n",
              "        214.16999817, 216.69999695],\n",
              "       [208.88633728, 207.98974609, 212.23362732, ..., 214.16999817,\n",
              "        216.69999695, 223.58999634]])"
            ]
          },
          "metadata": {
            "tags": []
          },
          "execution_count": 18
        }
      ]
    },
    {
      "cell_type": "code",
      "metadata": {
        "id": "1f8B0H46tKYi",
        "colab_type": "code",
        "colab": {
          "base_uri": "https://localhost:8080/",
          "height": 34
        },
        "outputId": "7213da2b-6ab5-4024-fa01-5e271be334d3"
      },
      "source": [
        "# confidence level to split things is 80%...\n",
        "\n",
        "fraction=0.8\n",
        "ind_split=int(fraction*num_samples)\n",
        "\n",
        "x_train = x[:ind_split]\n",
        "y_train = y[:ind_split]\n",
        "x_test = x[ind_split:]\n",
        "y_test = y[ind_split:]\n",
        "\n",
        "y_train.shape\n"
      ],
      "execution_count": 22,
      "outputs": [
        {
          "output_type": "execute_result",
          "data": {
            "text/plain": [
              "(115,)"
            ]
          },
          "metadata": {
            "tags": []
          },
          "execution_count": 22
        }
      ]
    },
    {
      "cell_type": "markdown",
      "metadata": {
        "id": "jGm5xYKWtee2",
        "colab_type": "text"
      },
      "source": [
        "Dig deeper"
      ]
    },
    {
      "cell_type": "code",
      "metadata": {
        "id": "H301mFCltdGe",
        "colab_type": "code",
        "colab": {}
      },
      "source": [
        "#Help Functions (still need to clean up...)\n",
        "def get_performance (model_pred):\n",
        "  #Function returns standard performance metrics\n",
        "  print('Mean Absolute Error:', metrics.mean_absolute_error(y_test, model_pred).round(4))  \n",
        "  print('Mean Squared Error:', metrics.mean_squared_error(y_test, model_pred).round(4))  \n",
        "  print('Root Mean Squared Error:', np.sqrt(metrics.mean_squared_error(y_test, model_pred)).round(4))\n",
        "  \n",
        "  \n",
        "  \n",
        "def get_plot (model_pred):\n",
        "  plt.scatter(model_pred, y_test, color=\"gray\")\n",
        "  plt.plot(y_test, y_test, color='red', linewidth=2)"
      ],
      "execution_count": 0,
      "outputs": []
    },
    {
      "cell_type": "code",
      "metadata": {
        "id": "89jBA_n5uUad",
        "colab_type": "code",
        "colab": {
          "base_uri": "https://localhost:8080/",
          "height": 67
        },
        "outputId": "89fe7828-a336-43a6-8fed-89ec608a062f"
      },
      "source": [
        "y_pred_lag=np.roll(y_test,1)\n",
        "\n",
        "get_performance(y_pred_lag)\n",
        "\n",
        "#Mean Absolute Error: 3.8656\n",
        "#Mean Squared Error: 31.8917\n",
        "#Root Mean Squared Error: 5.6473"
      ],
      "execution_count": 29,
      "outputs": [
        {
          "output_type": "stream",
          "text": [
            "Mean Absolute Error: 3.8656\n",
            "Mean Squared Error: 31.8917\n",
            "Root Mean Squared Error: 5.6473\n"
          ],
          "name": "stdout"
        }
      ]
    },
    {
      "cell_type": "code",
      "metadata": {
        "id": "vyJyYPq2xRFD",
        "colab_type": "code",
        "colab": {
          "base_uri": "https://localhost:8080/",
          "height": 269
        },
        "outputId": "8f281496-0d69-4de5-e9d4-d425d9912831"
      },
      "source": [
        "get_plot(y_pred_lag)"
      ],
      "execution_count": 30,
      "outputs": [
        {
          "output_type": "display_data",
          "data": {
            "image/png": "[encoded data removed]",
            "text/plain": [
              "<Figure size 432x288 with 1 Axes>"
            ]
          },
          "metadata": {
            "tags": []
          }
        }
      ]
    }
  ]
}